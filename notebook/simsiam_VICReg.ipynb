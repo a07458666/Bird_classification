{
 "cells": [
  {
   "cell_type": "markdown",
   "id": "sound-saturn",
   "metadata": {},
   "source": [
    "# simsiam_VICReg"
   ]
  },
  {
   "cell_type": "markdown",
   "id": "cleared-conference",
   "metadata": {},
   "source": [
    "https://github.com/vturrisi/solo-learn/blob/da26b4dcbd69dab45593ceb031f04568f7659667/solo/losses/vicreg.py#L82"
   ]
  },
  {
   "cell_type": "code",
   "execution_count": 1,
   "id": "primary-lightning",
   "metadata": {},
   "outputs": [],
   "source": [
    "data_path = '../../dataset/bird_datasets/train'\n",
    "classes_path = '../../dataset/bird_datasets/classes.txt'\n",
    "training_labels_path = '../../dataset/bird_datasets/training_labels.txt'\n",
    "\n",
    "batch_size = 16\n",
    "# learning rate\n",
    "learning_rate = 2e-4\n",
    "weight_decay = 1e-4\n",
    "WORKERS = 16\n",
    "momentum = 0.9\n",
    "output_foloder = 'model/model_bird_vic_simsiam_pretrain_500'\n",
    "d = 1024\n",
    "sim_weight=1.\n",
    "var_weight=1.\n",
    "cov_weight=1e-2"
   ]
  },
  {
   "cell_type": "code",
   "execution_count": 2,
   "id": "hollow-carbon",
   "metadata": {},
   "outputs": [],
   "source": [
    "from torch.utils.tensorboard import SummaryWriter\n",
    "writer = SummaryWriter('runs/' + output_foloder, comment=f' batch_size={batch_size} lr={learning_rate}')\n",
    "writer.add_text('Remark', 'batch_size = {}'.format(batch_size) , 0)\n",
    "writer.add_text('Remark', 'learning_rate = {}'.format(learning_rate) , 0)\n",
    "writer.add_text('Remark', output_foloder, 0)\n",
    "writer.add_text('Remark', 'sim_weight = {}'.format(sim_weight), 0)\n",
    "writer.add_text('Remark', 'var_weight = {}'.format(var_weight), 0)\n",
    "writer.add_text('Remark', 'cov_weight = {}'.format(cov_weight), 0)\n",
    "writer.add_text('Remark', 'momentum = {}'.format(momentum) , 0)\n",
    "writer.add_text('Remark', 'weight_decay = {}'.format(weight_decay) , 0)\n",
    "writer.add_text('Remark', 'layer d = {}'.format(d) , 0)\n",
    "\n",
    "writer.flush()"
   ]
  },
  {
   "cell_type": "code",
   "execution_count": 3,
   "id": "controversial-associate",
   "metadata": {},
   "outputs": [
    {
     "ename": "ModuleNotFoundError",
     "evalue": "No module named 'loss_functions'",
     "output_type": "error",
     "traceback": [
      "\u001b[0;31m---------------------------------------------------------------------------\u001b[0m",
      "\u001b[0;31mModuleNotFoundError\u001b[0m                       Traceback (most recent call last)",
      "\u001b[0;32m<ipython-input-3-1c674ad8d3f0>\u001b[0m in \u001b[0;36m<module>\u001b[0;34m\u001b[0m\n\u001b[1;32m     19\u001b[0m \u001b[0;32mimport\u001b[0m \u001b[0mtorchvision\u001b[0m\u001b[0;34m.\u001b[0m\u001b[0mmodels\u001b[0m \u001b[0;32mas\u001b[0m \u001b[0mmodels\u001b[0m\u001b[0;34m\u001b[0m\u001b[0;34m\u001b[0m\u001b[0m\n\u001b[1;32m     20\u001b[0m \u001b[0;32mfrom\u001b[0m \u001b[0mtorch\u001b[0m \u001b[0;32mimport\u001b[0m \u001b[0mnn\u001b[0m\u001b[0;34m\u001b[0m\u001b[0;34m\u001b[0m\u001b[0m\n\u001b[0;32m---> 21\u001b[0;31m \u001b[0;32mfrom\u001b[0m \u001b[0mloss_functions\u001b[0m\u001b[0;34m.\u001b[0m\u001b[0mvicreg\u001b[0m \u001b[0;32mimport\u001b[0m \u001b[0msimsiam_vicreg_loss_func\u001b[0m\u001b[0;34m\u001b[0m\u001b[0;34m\u001b[0m\u001b[0m\n\u001b[0m\u001b[1;32m     22\u001b[0m \u001b[0;32mimport\u001b[0m \u001b[0mtorch\u001b[0m\u001b[0;34m.\u001b[0m\u001b[0mnn\u001b[0m\u001b[0;34m.\u001b[0m\u001b[0mfunctional\u001b[0m \u001b[0;32mas\u001b[0m \u001b[0mF\u001b[0m\u001b[0;34m\u001b[0m\u001b[0;34m\u001b[0m\u001b[0m\n\u001b[1;32m     23\u001b[0m \u001b[0;32mimport\u001b[0m \u001b[0mtorchvision\u001b[0m\u001b[0;34m.\u001b[0m\u001b[0mmodels\u001b[0m \u001b[0;32mas\u001b[0m \u001b[0mmodels\u001b[0m\u001b[0;34m\u001b[0m\u001b[0;34m\u001b[0m\u001b[0m\n",
      "\u001b[0;31mModuleNotFoundError\u001b[0m: No module named 'loss_functions'"
     ]
    }
   ],
   "source": [
    "import torch\n",
    "import math\n",
    "\n",
    "import os\n",
    "import PIL.Image as Image\n",
    "import numpy as np\n",
    "from os import listdir\n",
    "from os import walk\n",
    "import glob\n",
    "from torch.utils.data import Dataset\n",
    "from torchvision import transforms\n",
    "\n",
    "import numpy as np\n",
    "from torchvision import transforms\n",
    "from PIL import Image, ImageFilter\n",
    "from torch.utils.data import DataLoader\n",
    "from matplotlib import pyplot as plt\n",
    "\n",
    "import torchvision.models as models\n",
    "from torch import nn\n",
    "from loss_functions.vicreg import simsiam_vicreg_loss_func\n",
    "import torch.nn.functional as F\n",
    "import torchvision.models as models\n",
    "from swin_transformer_pytorch import SwinTransformer\n",
    "from torch.optim.lr_scheduler import MultiStepLR, StepLR, ReduceLROnPlateau\n",
    "from PIL import ImageFilter\n",
    "import random\n",
    "import timm"
   ]
  },
  {
   "cell_type": "markdown",
   "id": "leading-transcript",
   "metadata": {},
   "source": [
    "## GPU Check"
   ]
  },
  {
   "cell_type": "code",
   "execution_count": null,
   "id": "enabling-finland",
   "metadata": {},
   "outputs": [],
   "source": [
    "print('torch version:' + torch.__version__)\n",
    "\n",
    "if torch.cuda.is_available():\n",
    "    device = torch.device('cuda')\n",
    "    print('Available GPUs: ', end='')\n",
    "    for i in range(torch.cuda.device_count()):\n",
    "        print(torch.cuda.get_device_name(i), end=' ')\n",
    "else:\n",
    "    device = torch.device('cpu')\n",
    "    print('CUDA is not available.')"
   ]
  },
  {
   "cell_type": "markdown",
   "id": "ambient-outdoors",
   "metadata": {},
   "source": [
    "## read classes txt"
   ]
  },
  {
   "cell_type": "code",
   "execution_count": 5,
   "id": "sticky-parent",
   "metadata": {},
   "outputs": [],
   "source": [
    "class_to_idx = {}\n",
    "with open(classes_path) as f:\n",
    "    for line in f.readlines():\n",
    "        label_num =  line.split(\".\")[0] \n",
    "        label_str =  line.split(\".\")[1][:-1]\n",
    "        class_to_idx[int(label_num) - 1] = label_str"
   ]
  },
  {
   "cell_type": "markdown",
   "id": "structured-omega",
   "metadata": {},
   "source": [
    "## read labels txt"
   ]
  },
  {
   "cell_type": "code",
   "execution_count": 6,
   "id": "cordless-prescription",
   "metadata": {},
   "outputs": [
    {
     "name": "stdout",
     "output_type": "stream",
     "text": [
      "all data :  3000\n",
      "train data :  2400\n",
      "val data :  300\n",
      "test data :  300\n",
      "[['4283.jpg', 114, 'Brewer_Sparrow'], ['3982.jpg', 161, 'Canada_Warbler'], ['5836.jpg', 143, 'Common_Tern'], ['5980.jpg', 7, 'Rhinoceros_Auklet'], ['4168.jpg', 160, 'Blue_winged_Warbler'], ['2352.jpg', 60, 'Heermann_Gull'], ['0511.jpg', 37, 'Great_Crested_Flycatcher'], ['4492.jpg', 146, 'Least_Tern'], ['1254.jpg', 131, 'White_crowned_Sparrow'], ['2792.jpg', 176, 'Prothonotary_Warbler']]\n"
     ]
    }
   ],
   "source": [
    "data_list = []\n",
    "with open(training_labels_path) as f:\n",
    "    for line in f.readlines():\n",
    "        file_name =  line.split(\" \")[0]\n",
    "        label_num =  int(line.split(\" \")[1].split(\".\")[0]) -1\n",
    "        label_str =  line.split(\" \")[1].split(\".\")[1][:-1]\n",
    "        data_list.append([file_name, label_num, label_str])\n",
    "\n",
    "train_data_list = data_list[:int(len(data_list) * 0.8)]\n",
    "val_data_list = data_list[int(len(data_list) * 0.8):int(len(data_list) * 0.9)]\n",
    "test_data_list = data_list[int(len(data_list) * 0.9):]\n",
    "\n",
    "print(\"all data : \", len(data_list))\n",
    "print(\"train data : \", len(train_data_list))\n",
    "print(\"val data : \", len(val_data_list))\n",
    "print(\"test data : \", len(test_data_list))\n",
    "print(train_data_list[:10])"
   ]
  },
  {
   "cell_type": "markdown",
   "id": "fiscal-expert",
   "metadata": {},
   "source": [
    "## define dataset"
   ]
  },
  {
   "cell_type": "code",
   "execution_count": 7,
   "id": "pharmaceutical-unknown",
   "metadata": {},
   "outputs": [],
   "source": [
    "IMG_EXTENSIONS = [\n",
    "    '.jpg', '.JPG', '.jpeg', '.JPEG',\n",
    "    '.png', '.PNG', '.ppm', '.PPM', '.bmp', '.BMP',\n",
    "]\n",
    "\n",
    "def is_image_file(filename):\n",
    "    return any(filename.endswith(extension) for extension in IMG_EXTENSIONS)\n",
    "\n",
    "def make_dataset(dir, data_list):\n",
    "    images = []\n",
    "    for img_name, idx, labels in data_list:\n",
    "        item = (img_name, int(idx))\n",
    "        images.append(item)\n",
    "    return images\n",
    "\n",
    "class BirdImageLoader(Dataset):\n",
    "    def __init__(self, root, data_list, class_to_idx, transform=None, target_transform=None):\n",
    "        imgs = make_dataset(root, data_list)\n",
    "\n",
    "        self.root = root\n",
    "        self.imgs = imgs\n",
    "        self.class_to_idx = class_to_idx\n",
    "        self.transform = transform\n",
    "        self.target_transform = target_transform\n",
    "\n",
    "    def __getitem__(self, index):\n",
    "        path, target = self.imgs[index]\n",
    "        img = Image.open(os.path.join(self.root, path)).convert('RGB')\n",
    "        if self.transform is not None:\n",
    "            img1 = self.transform(img)\n",
    "            img2 = self.transform(img)\n",
    "        if self.target_transform is not None:\n",
    "            target = self.target_transform(target)\n",
    "        return img1, img2, target\n",
    "\n",
    "    def __len__(self):\n",
    "        return len(self.imgs)"
   ]
  },
  {
   "cell_type": "markdown",
   "id": "beneficial-dancing",
   "metadata": {},
   "source": [
    "## define data augmentation"
   ]
  },
  {
   "cell_type": "code",
   "execution_count": 8,
   "id": "positive-washington",
   "metadata": {},
   "outputs": [],
   "source": [
    "normalize = transforms.Normalize(mean=[0.485, 0.456, 0.406], std=[0.229, 0.224, 0.225])\n",
    " \n",
    "class GaussianBlur(object):\n",
    "    def __init__(self, sigma=[.1, 2.]):\n",
    "        self.sigma = sigma\n",
    "\n",
    "    def __call__(self, x):\n",
    "        sigma = random.uniform(self.sigma[0], self.sigma[1])\n",
    "        x = x.filter(ImageFilter.GaussianBlur(radius=sigma))\n",
    "        return x\n",
    "    \n",
    "def get_aug_trnsform():\n",
    "    transform = transforms.Compose([\n",
    "        transforms.RandomResizedCrop(224, scale=(0.2, 1.)),\n",
    "        transforms.RandomApply([\n",
    "            transforms.ColorJitter(0.4, 0.4, 0.4, 0.1)  # not strengthened\n",
    "        ], p=0.8),\n",
    "        transforms.RandomGrayscale(p=0.2),\n",
    "        transforms.RandomApply([GaussianBlur([.1, 2.])], p=0.5),\n",
    "        transforms.RandomHorizontalFlip(),\n",
    "        transforms.ToTensor(),\n",
    "        normalize\n",
    "    ])\n",
    "    \n",
    "    return transform\n",
    "\n",
    "def ge_eval_trnsform(s=1.0):\n",
    "    transform = transforms.Compose([\n",
    "        transforms.Resize((224, 224)),\n",
    "        transforms.ToTensor(),\n",
    "        normalize\n",
    "    ])\n",
    "    \n",
    "    return transform\n",
    "\n",
    "aug_train = get_aug_trnsform()\n",
    "aug_eval = ge_eval_trnsform()"
   ]
  },
  {
   "cell_type": "code",
   "execution_count": 9,
   "id": "opposite-arctic",
   "metadata": {},
   "outputs": [
    {
     "name": "stdout",
     "output_type": "stream",
     "text": [
      "class_to_idx  200\n",
      "val_loader  200\n"
     ]
    },
    {
     "data": {
      "text/plain": [
       "2400"
      ]
     },
     "execution_count": 9,
     "metadata": {},
     "output_type": "execute_result"
    }
   ],
   "source": [
    "dataset_train = BirdImageLoader(data_path, train_data_list, class_to_idx, transform=aug_train)\n",
    "dataset_val = BirdImageLoader(data_path, val_data_list, class_to_idx, transform=aug_eval)\n",
    "dataset_test = BirdImageLoader(data_path, test_data_list, class_to_idx, transform=aug_eval)\n",
    "\n",
    "train_loader = DataLoader(\n",
    "    dataset_train,\n",
    "    num_workers=WORKERS,\n",
    "    batch_size=batch_size,\n",
    "    shuffle=True\n",
    ")\n",
    "val_loader = DataLoader(\n",
    "    dataset_val,\n",
    "    num_workers=WORKERS,\n",
    "    batch_size=batch_size,\n",
    "    shuffle=True\n",
    ")\n",
    "\n",
    "test_loader = DataLoader(\n",
    "    dataset_test,\n",
    "    num_workers=WORKERS,\n",
    "    batch_size=batch_size,\n",
    "    shuffle=False\n",
    ")\n",
    "\n",
    "print('class_to_idx ', len(dataset_train.class_to_idx))\n",
    "print('val_loader ', len(dataset_train.class_to_idx))\n",
    "dataset_train.__len__()"
   ]
  },
  {
   "cell_type": "markdown",
   "id": "offshore-millennium",
   "metadata": {},
   "source": [
    "## define model"
   ]
  },
  {
   "cell_type": "code",
   "execution_count": 10,
   "id": "universal-bermuda",
   "metadata": {},
   "outputs": [],
   "source": [
    "# make embedding to length=1\n",
    "class L2_norm(nn.Module):\n",
    "    def __init__(self):\n",
    "        super(L2_norm, self).__init__()\n",
    "\n",
    "    def forward(self, x):\n",
    "        return F.normalize(x, p=2, dim=-1)"
   ]
  },
  {
   "cell_type": "code",
   "execution_count": 11,
   "id": "protecting-welsh",
   "metadata": {},
   "outputs": [
    {
     "data": {
      "text/plain": [
       "Sequential(\n",
       "  (0): Linear(in_features=1024, out_features=1024, bias=True)\n",
       "  (1): BatchNorm1d(1024, eps=1e-05, momentum=0.1, affine=True, track_running_stats=True)\n",
       "  (2): ReLU()\n",
       "  (3): Linear(in_features=1024, out_features=1024, bias=True)\n",
       ")"
      ]
     },
     "execution_count": 11,
     "metadata": {},
     "output_type": "execute_result"
    }
   ],
   "source": [
    "# encoder\n",
    "encoder = timm.create_model('vit_base_patch16_224_miil_in21k', pretrained=True)\n",
    "\n",
    "# projector\n",
    "projector = nn.Sequential(\n",
    "    nn.Linear(11221, 2048), nn.BatchNorm1d(2048), nn.ReLU(),\n",
    "    nn.Linear(2048, d), nn.BatchNorm1d(d), nn.ReLU(),\n",
    "    nn.Linear(d, d), nn.BatchNorm1d(d)\n",
    ") \n",
    "\n",
    "# predictor\n",
    "predictor = nn.Sequential(\n",
    "    nn.Linear(d, d), nn.BatchNorm1d(d), nn.ReLU(),\n",
    "    nn.Linear(d, d)\n",
    ")\n",
    "\n",
    "encoder.to(device)\n",
    "projector.to(device)\n",
    "predictor.to(device)\n"
   ]
  },
  {
   "cell_type": "code",
   "execution_count": 12,
   "id": "anonymous-glory",
   "metadata": {},
   "outputs": [],
   "source": [
    "# optimizer\n",
    "from torch import optim\n",
    "\n",
    "encoder_opt = optim.Adam(encoder.parameters(), lr=learning_rate)\n",
    "projector_opt = optim.Adam(projector.parameters(), lr=learning_rate)\n",
    "predictor_opt = optim.Adam(predictor.parameters(), lr=learning_rate)\n",
    "\n",
    "encoder_opt = optim.SGD(encoder.parameters(), lr=learning_rate / 10.0, momentum = momentum, weight_decay=weight_decay)\n",
    "projector_opt = optim.SGD(projector.parameters(), lr=learning_rate, momentum = momentum, weight_decay=weight_decay)\n",
    "predictor_opt = optim.SGD(predictor.parameters(), lr=learning_rate, momentum = momentum, weight_decay=weight_decay)\n",
    "\n",
    "encoder_scheduler = ReduceLROnPlateau(encoder_opt, 'min')\n",
    "projector_scheduler = ReduceLROnPlateau(projector_opt, 'min')\n",
    "predictor_scheduler = ReduceLROnPlateau(predictor_opt, 'min')"
   ]
  },
  {
   "cell_type": "markdown",
   "id": "athletic-embassy",
   "metadata": {},
   "source": [
    "### save model"
   ]
  },
  {
   "cell_type": "code",
   "execution_count": 13,
   "id": "tribal-housing",
   "metadata": {},
   "outputs": [],
   "source": [
    "def save_checkpoint(state, is_best, filename='checkpoint.pth.tar'):\n",
    "    torch.save(state, filename)\n",
    "    if is_best:\n",
    "        shutil.copyfile(filename, 'model_best.pth.tar')"
   ]
  },
  {
   "cell_type": "markdown",
   "id": "guided-mountain",
   "metadata": {},
   "source": [
    "## Train"
   ]
  },
  {
   "cell_type": "code",
   "execution_count": 14,
   "id": "catholic-frederick",
   "metadata": {},
   "outputs": [],
   "source": [
    "def pass_epoch(loader, mode = 'Train'):\n",
    "    loss = 0\n",
    "    loss_sim = 0\n",
    "    loss_var = 0\n",
    "    loss_cov = 0\n",
    "    if (mode == 'Train'):\n",
    "        encoder.train()\n",
    "        projector.train()\n",
    "    else:\n",
    "        encoder.eval()\n",
    "        projector.eval()\n",
    "    for i_batch, image_batch in tqdm(enumerate(loader)):\n",
    "        x1, x2 = image_batch[0].to(device), image_batch[1].to(device)\n",
    "        # forward\n",
    "        y1, y2 = encoder(x1), encoder(x2)\n",
    "        z1, z2 = projector(y1), projector(y2)\n",
    "        p1, p2 = predictor(z1), predictor(z2)\n",
    "\n",
    "        # compute loos\n",
    "        loss_batch, loss_batch_sim, loss_batch_var, loss_batch_cov = simsiam_vicreg_loss_func(z1, z2,p1, p2, sim_loss_weight=sim_weight, var_loss_weight=var_weight, cov_loss_weight=cov_weight) # loss\n",
    "        loss += loss_batch\n",
    "        loss_sim += loss_batch_sim\n",
    "        loss_var += loss_batch_var\n",
    "        loss_cov += loss_batch_cov\n",
    "\n",
    "        if mode == 'Train':\n",
    "            # update\n",
    "            encoder_opt.zero_grad()\n",
    "            projector_opt.zero_grad()\n",
    "            predictor_opt.zero_grad()\n",
    "            loss_batch.backward()\n",
    "            encoder_opt.step()\n",
    "            projector_opt.step()  \n",
    "            predictor_opt.step()\n",
    "    return loss / (i_batch + 1), loss_sim / (i_batch + 1), loss_var / (i_batch + 1), loss_cov / (i_batch + 1)"
   ]
  },
  {
   "cell_type": "code",
   "execution_count": null,
   "id": "entitled-milton",
   "metadata": {},
   "outputs": [
    {
     "data": {
      "image/png": "[encoded data removed]",
      "text/plain": [
       "<Figure size 432x288 with 1 Axes>"
      ]
     },
     "metadata": {
      "needs_background": "light"
     },
     "output_type": "display_data"
    },
    {
     "name": "stderr",
     "output_type": "stream",
     "text": [
      "66it [00:29,  2.19it/s]"
     ]
    }
   ],
   "source": [
    "from torch.utils.data import DataLoader\n",
    "from matplotlib import pyplot as plt\n",
    "from IPython.display import clear_output\n",
    "from tqdm import tqdm \n",
    "\n",
    "epochs = 100\n",
    "\n",
    "loss_history_train = []\n",
    "loss_history_train_sim = []\n",
    "loss_history_train_var = []\n",
    "loss_history_train_cov = []\n",
    "loss_history_val = []\n",
    "loss_history_val_sim = []\n",
    "loss_history_val_var = []\n",
    "loss_history_val_cov = []\n",
    "\n",
    "def update_loss_hist(train_list, val_list, name='result', ylim = None):\n",
    "    clear_output(wait=True)\n",
    "    if (ylim != None):\n",
    "        plt.ylim(0, ylim)\n",
    "    plt.plot(train_list)\n",
    "    plt.plot(val_list)\n",
    "    plt.title(name)\n",
    "    plt.ylabel('Loss')\n",
    "    plt.xlabel('Epoch')\n",
    "    plt.legend(['train', 'val'], loc='center right')\n",
    "    plt.savefig('./{}/{}.png'.format(output_foloder, name))\n",
    "    plt.show()\n",
    "\n",
    "# train loop\n",
    "for epoch in range(epochs):\n",
    "    train_loss, train_loss_sim, train_loss_var, train_loss_cov = pass_epoch(train_loader, 'Train')\n",
    "    with torch.no_grad():\n",
    "        val_loss, val_loss_sim, val_loss_var, val_loss_cov = pass_epoch(val_loader, 'Eval')\n",
    "\n",
    "    \n",
    "    writer.add_scalars('loss', {'train':train_loss, 'val':val_loss}, epoch)\n",
    "    writer.add_scalars('sim', {'train':train_loss_sim, 'val':val_loss_sim}, epoch)\n",
    "    writer.add_scalars('var', {'train':train_loss_var, 'val':val_loss_var}, epoch)\n",
    "    writer.add_scalars('cov', {'train':train_loss_cov, 'val':val_loss_cov}, epoch)\n",
    "    \n",
    "    loss_history_train.append(train_loss)\n",
    "    loss_history_train_sim.append(train_loss_sim)\n",
    "    loss_history_train_var.append(train_loss_var)\n",
    "    loss_history_train_cov.append(train_loss_cov)\n",
    "\n",
    "    loss_history_val.append(val_loss)\n",
    "    loss_history_val_sim.append(val_loss_sim)\n",
    "    loss_history_val_var.append(val_loss_var)\n",
    "    loss_history_val_cov.append(val_loss_cov)\n",
    "    update_loss_hist(loss_history_train, loss_history_val, 'Loss')\n",
    "    update_loss_hist(loss_history_train_sim, loss_history_val_sim, 'Sim')\n",
    "    update_loss_hist(loss_history_train_var, loss_history_val_var, 'Var')\n",
    "    update_loss_hist(loss_history_train_cov, loss_history_val_cov, 'Cov')\n",
    "    encoder_scheduler.step(val_loss)\n",
    "    projector_scheduler.step(val_loss)\n",
    "    projector_scheduler.step(val_loss)\n",
    "    \n",
    "    save_checkpoint({\n",
    "        'epoch': epoch + 1,\n",
    "        'sim_weight': sim_weight,\n",
    "        'var_weight': var_weight,\n",
    "        'cov_weight': cov_weight,\n",
    "        'state_dict': encoder.state_dict(),\n",
    "        'optimizer' : encoder.state_dict(),\n",
    "    }, is_best=False, filename='./{}/checkpoint_{:04d}.pth.tar'.format(output_foloder, epoch + 1))\n",
    "torch.save(encoder, './{}/checkpoint.pth.tar'.format(output_foloder))\n",
    "torch.cuda.empty_cache()"
   ]
  },
  {
   "cell_type": "code",
   "execution_count": null,
   "id": "fitting-champagne",
   "metadata": {},
   "outputs": [],
   "source": []
  }
 ],
 "metadata": {
  "kernelspec": {
   "display_name": "Python 3",
   "language": "python",
   "name": "python3"
  },
  "language_info": {
   "codemirror_mode": {
    "name": "ipython",
    "version": 3
   },
   "file_extension": ".py",
   "mimetype": "text/x-python",
   "name": "python",
   "nbconvert_exporter": "python",
   "pygments_lexer": "ipython3",
   "version": "3.7.10"
  }
 },
 "nbformat": 4,
 "nbformat_minor": 5
}
